{
 "cells": [
  {
   "cell_type": "code",
   "execution_count": null,
   "metadata": {},
   "outputs": [],
   "source": [
    "import matplotlib.pyplot as plt\n",
    "import numpy as np\n",
    "from music21 import *"
   ]
  },
  {
   "cell_type": "code",
   "execution_count": null,
   "metadata": {},
   "outputs": [],
   "source": [
    "b = corpus.parse('bwv66.6')\n",
    "b.show()"
   ]
  },
  {
   "cell_type": "code",
   "execution_count": null,
   "metadata": {},
   "outputs": [],
   "source": [
    "bChords = b.chordify()\n",
    "bChords.show()"
   ]
  },
  {
   "cell_type": "code",
   "execution_count": null,
   "metadata": {},
   "outputs": [],
   "source": [
    "for thisChord in bChords.recurse().getElementsByClass(chord.Chord):\n",
    "    if thisChord.isDominantSeventh():\n",
    "        print(thisChord.measureNumber, thisChord.beatStr, thisChord)"
   ]
  },
  {
   "cell_type": "code",
   "execution_count": null,
   "metadata": {},
   "outputs": [],
   "source": [
    "b.insert(0, bChords)\n",
    "b.measures(0,4).show()"
   ]
  },
  {
   "cell_type": "code",
   "execution_count": null,
   "metadata": {},
   "outputs": [],
   "source": [
    "for c in bChords.recurse().getElementsByClass(chord.Chord):\n",
    "    c.closedPosition(forceOctave=4, inPlace=True)\n",
    "\n",
    "b.measures(0, 2).show()"
   ]
  },
  {
   "cell_type": "code",
   "execution_count": null,
   "metadata": {},
   "outputs": [],
   "source": [
    "b.analyze('key')"
   ]
  },
  {
   "cell_type": "code",
   "execution_count": null,
   "metadata": {},
   "outputs": [],
   "source": [
    "for c in bChords.recurse().getElementsByClass(chord.Chord):\n",
    "    rn = roman.romanNumeralFromChord(c, key.Key('A'))\n",
    "    c.addLyric(str(rn.figure))\n",
    "\n",
    "b.measures(0,2).show()"
   ]
  },
  {
   "cell_type": "code",
   "execution_count": null,
   "metadata": {},
   "outputs": [],
   "source": [
    "# are the Roman Numeral Chords the same?\n",
    "from music21 import *\n",
    "b2 = corpus.parse('bwv66.6')\n",
    "b2Chords = b2.chordify()\n",
    "b2.insert(0, b2Chords)\n",
    "\n",
    "for c in b2Chords.recurse().getElementsByClass(chord.Chord):\n",
    "    rn = roman.romanNumeralFromChord(c, key.Key('A'))\n",
    "    c.addLyric(str(rn.figure))\n",
    "b2.measures(0,2).show()"
   ]
  },
  {
   "cell_type": "code",
   "execution_count": null,
   "metadata": {},
   "outputs": [],
   "source": [
    "from music21 import *\n",
    "configure.run()"
   ]
  },
  {
   "cell_type": "code",
   "execution_count": null,
   "metadata": {},
   "outputs": [],
   "source": [
    "c = converter.parse('~/GitHub/Singing-AI-Bach/ai-music/Chorale20/Chorale20_Original.musicxml')\n",
    "c.show() # show the first 4 measures"
   ]
  },
  {
   "cell_type": "code",
   "execution_count": null,
   "metadata": {},
   "outputs": [],
   "source": [
    "print(type(b2))\n",
    "print(type(c))"
   ]
  },
  {
   "cell_type": "code",
   "execution_count": null,
   "metadata": {},
   "outputs": [],
   "source": [
    "test = stream.Stream()\n",
    "\n",
    "test.insert(0, b2Chords)\n",
    "test.show()"
   ]
  },
  {
   "cell_type": "code",
   "execution_count": null,
   "metadata": {},
   "outputs": [],
   "source": [
    "# this code cell tries to pull the soprano part from a chorale and save the output as musicxml\n",
    "from music21 import *\n",
    "\n",
    "chorale20 = converter.parse('./ai-music/Chorale20/Chorale20_Original.musicxml')\n",
    "\n",
    "s = stream.Score()\n",
    "s.insert(0, chorale20.parts[0])\n",
    "s.write('midi', fp='output.mid')"
   ]
  }
 ],
 "metadata": {
  "interpreter": {
   "hash": "d16b9122b375dccc4395e811f2a014654d1af3e5c41647b5780aeda02abfc4d1"
  },
  "kernelspec": {
   "display_name": "Python 3.6.8 ('deepbach_pytorch')",
   "language": "python",
   "name": "python3"
  },
  "language_info": {
   "codemirror_mode": {
    "name": "ipython",
    "version": 3
   },
   "file_extension": ".py",
   "mimetype": "text/x-python",
   "name": "python",
   "nbconvert_exporter": "python",
   "pygments_lexer": "ipython3",
   "version": "3.9.17"
  },
  "orig_nbformat": 4
 },
 "nbformat": 4,
 "nbformat_minor": 2
}
