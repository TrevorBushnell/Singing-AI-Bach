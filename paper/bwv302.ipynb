{
 "cells": [
  {
   "cell_type": "markdown",
   "metadata": {},
   "source": [
    "# BWV302 Analysis\n",
    "\n",
    "BWV302 (Ein Feste Burg) is my personal favorite Bach chorale. The melody was originally written by Martin Luther and is extremely rhythmical to go along with the line of the text. Being the musical genius he is, Bach does an exceptional job having the harmony evolve with the line. "
   ]
  },
  {
   "cell_type": "code",
   "execution_count": null,
   "metadata": {},
   "outputs": [],
   "source": [
    "# import statements\n",
    "\n",
    "from music21 import *\n",
    "\n",
    "bwv302_original = \"\""
   ]
  }
 ],
 "metadata": {
  "kernelspec": {
   "display_name": "guchoirs",
   "language": "python",
   "name": "python3"
  },
  "language_info": {
   "name": "python",
   "version": "3.9.18"
  }
 },
 "nbformat": 4,
 "nbformat_minor": 2
}
