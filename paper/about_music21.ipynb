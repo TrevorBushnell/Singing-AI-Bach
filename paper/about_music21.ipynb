{
 "cells": [
  {
   "cell_type": "markdown",
   "metadata": {},
   "source": [
    "# `music21` - A Tool for Manipulating Music Data\n",
    "\n",
    "Before diving into the results analysis, I want to spend some time explaining the software I will be using to perform my musicology research on my project.\n",
    "\n",
    "Despite technology becoming more advanced and more capable, music analysis has had a hard time making the jump over to using technology. Much of the work and analysis done by musicologists is still being done by hand. While this is frustrating, it makes sense why this is the case - music has a complicated set of rules that take extra time to develop if you wish to write code capable of analyzing musical data. For example, suppose you wish to analyze chord progressions that occur on strong beats. If your score is stripped down to a database storing information about voice parts at given intervals of time, you have to write code to determine what moments in time are considered \"strong beats.\" Additionally, how does one deal with pickup measures, which Bach likes to frequently use in many of his chorales. There are many other musical rules and features that are not implemented statistical packages that come with modern programming languages. Even the tools that do exist like [Humdrum](https://www.humdrum.org/index.html) are incredibly complicated to understand even by programmers. With these lack of tools, musical research has not yet widely shifted to being used by computers. `music21` aims to solve this problem.\n",
    "\n",
    "[`music21`](http://web.mit.edu/music21/doc/index.html#) is a software package that was developed by professors and staff at the Massachusetts Institute of Technology. The name is derived from the designation of music courses at MIT - 21M. The goal of `music21` was to create an intuitive and simple programming framework for analyzing musical data. It was designed with object-oriented principles in mind, which means that `music21` was developed with like concepts grouped together. For example, if you want to do work related to analyzing chords, then you can find that information inside the `Chord` module, such as checking if a chord is a dominant seventh chord (`Chord.isDominantSeventh()`), getting the inversion of the chord, and more. If what you are interested is building your own scores, then you can find all the tools to add measures, set a key signature, and more in the `Score` attribute. Every hard rule that you would encounter in your first year as an undergraduate music student is programmed into `music21`, organized into these separate modules that are easy to access. This means that when writing code to analyze music, you don't have to worry about implementing the frustrating music rules - you can just focus on writing code to check the musical features you want to check.\n",
    "\n",
    "Additionally, `music21` was developed for use with the Python programming language. Python is widely known to be one of the easiest programming langauges to learn. This is encouraging because more people will have to write "
   ]
  }
 ],
 "metadata": {
  "kernelspec": {
   "display_name": "guchoirs",
   "language": "python",
   "name": "python3"
  },
  "language_info": {
   "name": "python",
   "version": "3.9.18"
  }
 },
 "nbformat": 4,
 "nbformat_minor": 2
}
