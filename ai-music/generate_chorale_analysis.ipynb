{
 "cells": [
  {
   "cell_type": "code",
   "execution_count": null,
   "metadata": {},
   "outputs": [],
   "source": [
    "from music21 import *"
   ]
  },
  {
   "cell_type": "markdown",
   "metadata": {},
   "source": [
    "# TESTING: Generating Harmonic Structure for Bach Chorales\n",
    "\n",
    "The following function can be used to take any musescore or musicxml file, condense it into chord structure, and generate the harmonic analysis so that we can use it for figuring out what to compare for my honors thesis."
   ]
  },
  {
   "cell_type": "code",
   "execution_count": null,
   "metadata": {},
   "outputs": [],
   "source": [
    "def generate_chord_progressions(score):\n",
    "    # generate the chords\n",
    "    score_chords = score.chordify()\n",
    "    score_chords.partName = 'Chords'\n",
    "    score_chords.id = 'Chords'\n",
    "\n",
    "    # put the chords in closed position\n",
    "    for c in score_chords.recurse().getElementsByClass(chord.Chord):\n",
    "        c.closedPosition(forceOctave=4, inPlace=True)\n",
    "\n",
    "    # generate the roman numeral analysis for each chord\n",
    "    for c in score_chords.recurse().getElementsByClass(chord.Chord):\n",
    "        if c.beat.is_integer():\n",
    "            rn = roman.romanNumeralFromChord(c, score.analyze('key'))\n",
    "            c.addLyric(str(rn.figure))\n",
    "\n",
    "    score.insert(0, score_chords)"
   ]
  },
  {
   "cell_type": "markdown",
   "metadata": {},
   "source": [
    "Now each of the following code cells will generate the harmony for ONE of the AI generations. Starting with Chorale 20 and then will expand from there as I get more music for the project."
   ]
  },
  {
   "cell_type": "code",
   "execution_count": null,
   "metadata": {},
   "outputs": [],
   "source": [
    "c1 = chord.Chord('D3 F#3 D4 D4')\n",
    "c1.pitchedCommonName"
   ]
  },
  {
   "cell_type": "code",
   "execution_count": null,
   "metadata": {},
   "outputs": [],
   "source": [
    "ai_1 = converter.parse('./BWV302/BWV302_DeepBach1.mxl')\n",
    "generate_chord_progressions(ai_1)\n",
    "ai_1.measures(0,4).show()\n",
    "# ai_1.write('musicxml.pdf', fp='./Chorale20/Chorale20_DeepBach1.pdf')"
   ]
  },
  {
   "cell_type": "markdown",
   "metadata": {},
   "source": [
    "## MORE TESTING: Pulling Out Piano Parts\n",
    "\n",
    "I need to be able to create piano parts that are more easily playable by a pianist."
   ]
  },
  {
   "cell_type": "code",
   "execution_count": null,
   "metadata": {},
   "outputs": [],
   "source": [
    "def generate_piano_part(score):\n",
    "    # generate the chords\n",
    "    score_chords = score.chordify()\n",
    "    score_chords.partName = 'Chords'\n",
    "    score_chords.id = 'Chords'\n",
    "\n",
    "    # figure out the keySignature\n",
    "    if score.analyze('key').alteredPitches[0].accidental.name == 'sharp':\n",
    "        key_sig = key.KeySignature(len(score.analyze('key').alteredPitches))\n",
    "    elif score.analyze('key').alteredPitches[0].accidental.name == 'flat':\n",
    "        key_sig = key.KeySignature(len(score.analyze('key').alteredPitches) * -1)\n",
    "    else:\n",
    "        key_sig = key.KeySignature(0)\n",
    "\n",
    "    treble_part = stream.Part()\n",
    "    treble_part.partName = 'Piano'\n",
    "    treble_part.insert(0, key_sig)\n",
    "    bass_part = stream.Part()\n",
    "    bass_part.partName = 'Piano'\n",
    "    bass_part.insert(0, key_sig)\n",
    "\n",
    "    # generate the roman numeral analysis for each chord\n",
    "    for c in score_chords.recurse().getElementsByClass(chord.Chord):\n",
    "        treble_notes = [note.Note(p) for p in c.pitches[2:]]\n",
    "        bass_notes = [note.Note(p) for p in c.pitches[:2]]\n",
    "\n",
    "        # create treble and bass chords\n",
    "        treble_chord = chord.Chord(treble_notes, duration=c.duration)\n",
    "        bass_chord = chord.Chord(bass_notes, duration=c.duration)\n",
    "\n",
    "        # append to the corresponding part\n",
    "        treble_part.append(treble_chord)\n",
    "        bass_part.append(bass_chord)\n",
    "\n",
    "    # append to the original score\n",
    "    score.insert(0, treble_part)\n",
    "    score.insert(0, bass_part)"
   ]
  },
  {
   "cell_type": "code",
   "execution_count": null,
   "metadata": {},
   "outputs": [],
   "source": [
    "from music21 import *\n",
    "\n",
    "ai_1 = converter.parse('BWV244_17_FINAL_SCORE.mxl')\n",
    "generate_piano_part(ai_1)\n",
    "# print(len(ai_1.analyze('key').alteredPitches))\n",
    "ai_1.show()\n",
    "ai_1.write('musicxml.pdf', fp='example3.pdf')"
   ]
  },
  {
   "cell_type": "markdown",
   "metadata": {},
   "source": [
    "### Another Piano Reduction Algorithm"
   ]
  },
  {
   "cell_type": "code",
   "execution_count": 1,
   "metadata": {},
   "outputs": [
    {
     "ename": "KeyError",
     "evalue": "127652382098672",
     "output_type": "error",
     "traceback": [
      "\u001b[0;31m---------------------------------------------------------------------------\u001b[0m",
      "\u001b[0;31mKeyError\u001b[0m                                  Traceback (most recent call last)",
      "Cell \u001b[0;32mIn[1], line 26\u001b[0m\n\u001b[1;32m     23\u001b[0m bwv302\u001b[38;5;241m.\u001b[39minsert(\u001b[38;5;241m0\u001b[39m, sa_part)\n\u001b[1;32m     24\u001b[0m bwv302\u001b[38;5;241m.\u001b[39minsert(\u001b[38;5;241m0\u001b[39m, tb_part)\n\u001b[0;32m---> 26\u001b[0m \u001b[43mbwv302\u001b[49m\u001b[38;5;241;43m.\u001b[39;49m\u001b[43mwrite\u001b[49m\u001b[43m(\u001b[49m\u001b[38;5;124;43m'\u001b[39;49m\u001b[38;5;124;43mmusicxml.pdf\u001b[39;49m\u001b[38;5;124;43m'\u001b[39;49m\u001b[43m,\u001b[49m\u001b[43m \u001b[49m\u001b[43mfp\u001b[49m\u001b[38;5;241;43m=\u001b[39;49m\u001b[38;5;124;43m'\u001b[39;49m\u001b[38;5;124;43mtest1.pdf\u001b[39;49m\u001b[38;5;124;43m'\u001b[39;49m\u001b[43m)\u001b[49m\n",
      "File \u001b[0;32m~/miniconda3/envs/guchoirs/lib/python3.9/site-packages/music21/stream/base.py:391\u001b[0m, in \u001b[0;36mStream.write\u001b[0;34m(self, fmt, fp, **keywords)\u001b[0m\n\u001b[1;32m    389\u001b[0m \u001b[38;5;28;01mif\u001b[39;00m \u001b[38;5;28mself\u001b[39m\u001b[38;5;241m.\u001b[39misSorted \u001b[38;5;129;01mis\u001b[39;00m \u001b[38;5;28;01mFalse\u001b[39;00m \u001b[38;5;129;01mand\u001b[39;00m \u001b[38;5;28mself\u001b[39m\u001b[38;5;241m.\u001b[39mautoSort:  \u001b[38;5;66;03m# pragma: no cover\u001b[39;00m\n\u001b[1;32m    390\u001b[0m     \u001b[38;5;28mself\u001b[39m\u001b[38;5;241m.\u001b[39msort()\n\u001b[0;32m--> 391\u001b[0m \u001b[38;5;28;01mreturn\u001b[39;00m \u001b[38;5;28;43msuper\u001b[39;49m\u001b[43m(\u001b[49m\u001b[43m)\u001b[49m\u001b[38;5;241;43m.\u001b[39;49m\u001b[43mwrite\u001b[49m\u001b[43m(\u001b[49m\u001b[43mfmt\u001b[49m\u001b[38;5;241;43m=\u001b[39;49m\u001b[43mfmt\u001b[49m\u001b[43m,\u001b[49m\u001b[43m \u001b[49m\u001b[43mfp\u001b[49m\u001b[38;5;241;43m=\u001b[39;49m\u001b[43mfp\u001b[49m\u001b[43m,\u001b[49m\u001b[43m \u001b[49m\u001b[38;5;241;43m*\u001b[39;49m\u001b[38;5;241;43m*\u001b[39;49m\u001b[43mkeywords\u001b[49m\u001b[43m)\u001b[49m\n",
      "File \u001b[0;32m~/miniconda3/envs/guchoirs/lib/python3.9/site-packages/music21/base.py:2815\u001b[0m, in \u001b[0;36mMusic21Object.write\u001b[0;34m(self, fmt, fp, **keywords)\u001b[0m\n\u001b[1;32m   2813\u001b[0m scClass \u001b[38;5;241m=\u001b[39m common\u001b[38;5;241m.\u001b[39mfindSubConverterForFormat(regularizedConverterFormat)\n\u001b[1;32m   2814\u001b[0m formatWriter \u001b[38;5;241m=\u001b[39m scClass()\n\u001b[0;32m-> 2815\u001b[0m \u001b[38;5;28;01mreturn\u001b[39;00m \u001b[43mformatWriter\u001b[49m\u001b[38;5;241;43m.\u001b[39;49m\u001b[43mwrite\u001b[49m\u001b[43m(\u001b[49m\u001b[38;5;28;43mself\u001b[39;49m\u001b[43m,\u001b[49m\n\u001b[1;32m   2816\u001b[0m \u001b[43m                          \u001b[49m\u001b[43mregularizedConverterFormat\u001b[49m\u001b[43m,\u001b[49m\n\u001b[1;32m   2817\u001b[0m \u001b[43m                          \u001b[49m\u001b[43mfp\u001b[49m\u001b[38;5;241;43m=\u001b[39;49m\u001b[43mfp\u001b[49m\u001b[43m,\u001b[49m\n\u001b[1;32m   2818\u001b[0m \u001b[43m                          \u001b[49m\u001b[43msubformats\u001b[49m\u001b[38;5;241;43m=\u001b[39;49m\u001b[43msubformats\u001b[49m\u001b[43m,\u001b[49m\n\u001b[1;32m   2819\u001b[0m \u001b[43m                          \u001b[49m\u001b[38;5;241;43m*\u001b[39;49m\u001b[38;5;241;43m*\u001b[39;49m\u001b[43mkeywords\u001b[49m\u001b[43m)\u001b[49m\n",
      "File \u001b[0;32m~/miniconda3/envs/guchoirs/lib/python3.9/site-packages/music21/converter/subConverters.py:1123\u001b[0m, in \u001b[0;36mConverterMusicXML.write\u001b[0;34m(self, obj, fmt, fp, subformats, makeNotation, compress, **keywords)\u001b[0m\n\u001b[1;32m   1121\u001b[0m generalExporter \u001b[38;5;241m=\u001b[39m m21ToXml\u001b[38;5;241m.\u001b[39mGeneralObjectExporter(obj)\n\u001b[1;32m   1122\u001b[0m generalExporter\u001b[38;5;241m.\u001b[39mmakeNotation \u001b[38;5;241m=\u001b[39m makeNotation\n\u001b[0;32m-> 1123\u001b[0m dataBytes \u001b[38;5;241m=\u001b[39m \u001b[43mgeneralExporter\u001b[49m\u001b[38;5;241;43m.\u001b[39;49m\u001b[43mparse\u001b[49m\u001b[43m(\u001b[49m\u001b[43m)\u001b[49m\n\u001b[1;32m   1125\u001b[0m writeDataStreamFp \u001b[38;5;241m=\u001b[39m fp\n\u001b[1;32m   1126\u001b[0m \u001b[38;5;28;01mif\u001b[39;00m fp \u001b[38;5;129;01mis\u001b[39;00m \u001b[38;5;129;01mnot\u001b[39;00m \u001b[38;5;28;01mNone\u001b[39;00m \u001b[38;5;129;01mand\u001b[39;00m subformats:  \u001b[38;5;66;03m# could be empty list\u001b[39;00m\n",
      "File \u001b[0;32m~/miniconda3/envs/guchoirs/lib/python3.9/site-packages/music21/musicxml/m21ToXml.py:431\u001b[0m, in \u001b[0;36mGeneralObjectExporter.parse\u001b[0;34m(self, obj)\u001b[0m\n\u001b[1;32m    429\u001b[0m     obj \u001b[38;5;241m=\u001b[39m \u001b[38;5;28mself\u001b[39m\u001b[38;5;241m.\u001b[39mgeneralObj\n\u001b[1;32m    430\u001b[0m \u001b[38;5;28;01mif\u001b[39;00m \u001b[38;5;28mself\u001b[39m\u001b[38;5;241m.\u001b[39mmakeNotation:\n\u001b[0;32m--> 431\u001b[0m     outObj \u001b[38;5;241m=\u001b[39m \u001b[38;5;28;43mself\u001b[39;49m\u001b[38;5;241;43m.\u001b[39;49m\u001b[43mfromGeneralObject\u001b[49m\u001b[43m(\u001b[49m\u001b[43mobj\u001b[49m\u001b[43m)\u001b[49m\n\u001b[1;32m    432\u001b[0m     \u001b[38;5;28;01mreturn\u001b[39;00m \u001b[38;5;28mself\u001b[39m\u001b[38;5;241m.\u001b[39mparseWellformedObject(outObj)\n\u001b[1;32m    433\u001b[0m \u001b[38;5;28;01melse\u001b[39;00m:\n",
      "File \u001b[0;32m~/miniconda3/envs/guchoirs/lib/python3.9/site-packages/music21/musicxml/m21ToXml.py:495\u001b[0m, in \u001b[0;36mGeneralObjectExporter.fromGeneralObject\u001b[0;34m(self, obj)\u001b[0m\n\u001b[1;32m    493\u001b[0m     \u001b[38;5;28;01mif\u001b[39;00m cM \u001b[38;5;129;01min\u001b[39;00m classes:\n\u001b[1;32m    494\u001b[0m         meth \u001b[38;5;241m=\u001b[39m \u001b[38;5;28mgetattr\u001b[39m(\u001b[38;5;28mself\u001b[39m, methName)\n\u001b[0;32m--> 495\u001b[0m         outObj \u001b[38;5;241m=\u001b[39m \u001b[43mmeth\u001b[49m\u001b[43m(\u001b[49m\u001b[43mobj\u001b[49m\u001b[43m)\u001b[49m\n\u001b[1;32m    496\u001b[0m         \u001b[38;5;28;01mbreak\u001b[39;00m\n\u001b[1;32m    497\u001b[0m \u001b[38;5;28;01mif\u001b[39;00m outObj \u001b[38;5;129;01mis\u001b[39;00m \u001b[38;5;28;01mNone\u001b[39;00m:\n",
      "File \u001b[0;32m~/miniconda3/envs/guchoirs/lib/python3.9/site-packages/music21/musicxml/m21ToXml.py:508\u001b[0m, in \u001b[0;36mGeneralObjectExporter.fromScore\u001b[0;34m(self, sc)\u001b[0m\n\u001b[1;32m    504\u001b[0m \u001b[38;5;28;01mdef\u001b[39;00m \u001b[38;5;21mfromScore\u001b[39m(\u001b[38;5;28mself\u001b[39m, sc):\n\u001b[1;32m    505\u001b[0m \u001b[38;5;250m    \u001b[39m\u001b[38;5;124;03m'''\u001b[39;00m\n\u001b[1;32m    506\u001b[0m \u001b[38;5;124;03m    Copies the input score and runs :meth:`~music21.stream.Score.makeNotation` on the copy.\u001b[39;00m\n\u001b[1;32m    507\u001b[0m \u001b[38;5;124;03m    '''\u001b[39;00m\n\u001b[0;32m--> 508\u001b[0m     scOut \u001b[38;5;241m=\u001b[39m \u001b[43msc\u001b[49m\u001b[38;5;241;43m.\u001b[39;49m\u001b[43mmakeNotation\u001b[49m\u001b[43m(\u001b[49m\u001b[43minPlace\u001b[49m\u001b[38;5;241;43m=\u001b[39;49m\u001b[38;5;28;43;01mFalse\u001b[39;49;00m\u001b[43m)\u001b[49m\n\u001b[1;32m    509\u001b[0m     \u001b[38;5;28;01mif\u001b[39;00m \u001b[38;5;129;01mnot\u001b[39;00m scOut\u001b[38;5;241m.\u001b[39misWellFormedNotation():\n\u001b[1;32m    510\u001b[0m         warnings\u001b[38;5;241m.\u001b[39mwarn(\u001b[38;5;124mf\u001b[39m\u001b[38;5;124m'\u001b[39m\u001b[38;5;132;01m{\u001b[39;00mscOut\u001b[38;5;132;01m}\u001b[39;00m\u001b[38;5;124m is not well-formed; see isWellFormedNotation()\u001b[39m\u001b[38;5;124m'\u001b[39m,\n\u001b[1;32m    511\u001b[0m             category\u001b[38;5;241m=\u001b[39mMusicXMLWarning)\n",
      "File \u001b[0;32m~/miniconda3/envs/guchoirs/lib/python3.9/site-packages/music21/stream/base.py:14046\u001b[0m, in \u001b[0;36mScore.makeNotation\u001b[0;34m(self, meterStream, refStreamOrTimeRange, inPlace, bestClef, **subroutineKeywords)\u001b[0m\n\u001b[1;32m  14044\u001b[0m     returnStream \u001b[38;5;241m=\u001b[39m \u001b[38;5;28mself\u001b[39m\n\u001b[1;32m  14045\u001b[0m \u001b[38;5;28;01melse\u001b[39;00m:\n\u001b[0;32m> 14046\u001b[0m     returnStream \u001b[38;5;241m=\u001b[39m \u001b[38;5;28;43mself\u001b[39;49m\u001b[38;5;241;43m.\u001b[39;49m\u001b[43mcoreCopyAsDerivation\u001b[49m\u001b[43m(\u001b[49m\u001b[38;5;124;43m'\u001b[39;49m\u001b[38;5;124;43mmakeNotation\u001b[39;49m\u001b[38;5;124;43m'\u001b[39;49m\u001b[43m)\u001b[49m\n\u001b[1;32m  14047\u001b[0m returnStream\u001b[38;5;241m.\u001b[39mcoreGatherMissingSpanners()  \u001b[38;5;66;03m# get spanners needed but not here!\u001b[39;00m\n\u001b[1;32m  14049\u001b[0m \u001b[38;5;66;03m# do not assume that we have parts here\u001b[39;00m\n",
      "File \u001b[0;32m~/miniconda3/envs/guchoirs/lib/python3.9/site-packages/music21/stream/core.py:321\u001b[0m, in \u001b[0;36mStreamCore.coreCopyAsDerivation\u001b[0;34m(self, methodName, recurse, deep)\u001b[0m\n\u001b[1;32m    318\u001b[0m \u001b[38;5;28;01mfrom\u001b[39;00m \u001b[38;5;21;01mmusic21\u001b[39;00m \u001b[38;5;28;01mimport\u001b[39;00m stream\n\u001b[1;32m    320\u001b[0m \u001b[38;5;28;01mif\u001b[39;00m deep:\n\u001b[0;32m--> 321\u001b[0m     post \u001b[38;5;241m=\u001b[39m \u001b[43mcopy\u001b[49m\u001b[38;5;241;43m.\u001b[39;49m\u001b[43mdeepcopy\u001b[49m\u001b[43m(\u001b[49m\u001b[38;5;28;43mself\u001b[39;49m\u001b[43m)\u001b[49m\n\u001b[1;32m    322\u001b[0m \u001b[38;5;28;01melse\u001b[39;00m:  \u001b[38;5;66;03m# pragma: no cover\u001b[39;00m\n\u001b[1;32m    323\u001b[0m     post \u001b[38;5;241m=\u001b[39m copy\u001b[38;5;241m.\u001b[39mcopy(\u001b[38;5;28mself\u001b[39m)\n",
      "File \u001b[0;32m~/miniconda3/envs/guchoirs/lib/python3.9/copy.py:153\u001b[0m, in \u001b[0;36mdeepcopy\u001b[0;34m(x, memo, _nil)\u001b[0m\n\u001b[1;32m    151\u001b[0m copier \u001b[38;5;241m=\u001b[39m \u001b[38;5;28mgetattr\u001b[39m(x, \u001b[38;5;124m\"\u001b[39m\u001b[38;5;124m__deepcopy__\u001b[39m\u001b[38;5;124m\"\u001b[39m, \u001b[38;5;28;01mNone\u001b[39;00m)\n\u001b[1;32m    152\u001b[0m \u001b[38;5;28;01mif\u001b[39;00m copier \u001b[38;5;129;01mis\u001b[39;00m \u001b[38;5;129;01mnot\u001b[39;00m \u001b[38;5;28;01mNone\u001b[39;00m:\n\u001b[0;32m--> 153\u001b[0m     y \u001b[38;5;241m=\u001b[39m \u001b[43mcopier\u001b[49m\u001b[43m(\u001b[49m\u001b[43mmemo\u001b[49m\u001b[43m)\u001b[49m\n\u001b[1;32m    154\u001b[0m \u001b[38;5;28;01melse\u001b[39;00m:\n\u001b[1;32m    155\u001b[0m     reductor \u001b[38;5;241m=\u001b[39m dispatch_table\u001b[38;5;241m.\u001b[39mget(\u001b[38;5;28mcls\u001b[39m)\n",
      "File \u001b[0;32m~/miniconda3/envs/guchoirs/lib/python3.9/site-packages/music21/stream/base.py:1964\u001b[0m, in \u001b[0;36mStream.__deepcopy__\u001b[0;34m(self, memo)\u001b[0m\n\u001b[1;32m   1962\u001b[0m new \u001b[38;5;241m=\u001b[39m \u001b[38;5;28mself\u001b[39m\u001b[38;5;241m.\u001b[39m_deepcopySubclassable(memo)\n\u001b[1;32m   1963\u001b[0m \u001b[38;5;28;01mif\u001b[39;00m new\u001b[38;5;241m.\u001b[39m_elements:  \u001b[38;5;66;03m# pylint: disable:no-member\u001b[39;00m\n\u001b[0;32m-> 1964\u001b[0m     \u001b[38;5;28;43mself\u001b[39;49m\u001b[38;5;241;43m.\u001b[39;49m\u001b[43m_replaceSpannerBundleForDeepcopy\u001b[49m\u001b[43m(\u001b[49m\u001b[43mnew\u001b[49m\u001b[43m)\u001b[49m\n\u001b[1;32m   1966\u001b[0m \u001b[38;5;66;03m# purging these orphans works in nearly all cases, but there are a few\u001b[39;00m\n\u001b[1;32m   1967\u001b[0m \u001b[38;5;66;03m# cases where we rely on a Stream having access to Stream it was\u001b[39;00m\n\u001b[1;32m   1968\u001b[0m \u001b[38;5;66;03m# part of after deepcopying\u001b[39;00m\n\u001b[1;32m   1969\u001b[0m \u001b[38;5;66;03m# new.purgeOrphans()\u001b[39;00m\n\u001b[1;32m   1970\u001b[0m \u001b[38;5;28;01mreturn\u001b[39;00m new\n",
      "File \u001b[0;32m~/miniconda3/envs/guchoirs/lib/python3.9/site-packages/music21/stream/base.py:1982\u001b[0m, in \u001b[0;36mStream._replaceSpannerBundleForDeepcopy\u001b[0;34m(self, new)\u001b[0m\n\u001b[1;32m   1979\u001b[0m     \u001b[38;5;28;01mreturn\u001b[39;00m\n\u001b[1;32m   1980\u001b[0m \u001b[38;5;66;03m# iterate over complete semi-flat (need containers); find\u001b[39;00m\n\u001b[1;32m   1981\u001b[0m \u001b[38;5;66;03m# all new/old pairs\u001b[39;00m\n\u001b[0;32m-> 1982\u001b[0m \u001b[38;5;28;01mfor\u001b[39;00m e \u001b[38;5;129;01min\u001b[39;00m new\u001b[38;5;241m.\u001b[39mrecurse(includeSelf\u001b[38;5;241m=\u001b[39m\u001b[38;5;28;01mFalse\u001b[39;00m):\n\u001b[1;32m   1983\u001b[0m     \u001b[38;5;66;03m# update based on id of old object, and ref to new object\u001b[39;00m\n\u001b[1;32m   1984\u001b[0m     \u001b[38;5;28;01mif\u001b[39;00m \u001b[38;5;124m'\u001b[39m\u001b[38;5;124mmusic21.spanner.Spanner\u001b[39m\u001b[38;5;124m'\u001b[39m \u001b[38;5;129;01min\u001b[39;00m e\u001b[38;5;241m.\u001b[39mclassSet:\n\u001b[1;32m   1985\u001b[0m         \u001b[38;5;28;01mcontinue\u001b[39;00m\n",
      "File \u001b[0;32m~/miniconda3/envs/guchoirs/lib/python3.9/site-packages/music21/stream/iterator.py:1847\u001b[0m, in \u001b[0;36mRecursiveIterator.__next__\u001b[0;34m(self)\u001b[0m\n\u001b[1;32m   1844\u001b[0m     \u001b[38;5;28;01mfrom\u001b[39;00m \u001b[38;5;21;01mmusic21\u001b[39;00m \u001b[38;5;28;01mimport\u001b[39;00m stream\n\u001b[1;32m   1845\u001b[0m     \u001b[38;5;28;01massert\u001b[39;00m \u001b[38;5;28misinstance\u001b[39m(e, stream\u001b[38;5;241m.\u001b[39mStream)\n\u001b[0;32m-> 1847\u001b[0m childRecursiveIterator: RecursiveIterator[M21ObjType] \u001b[38;5;241m=\u001b[39m \u001b[43mRecursiveIterator\u001b[49m\u001b[43m(\u001b[49m\n\u001b[1;32m   1848\u001b[0m \u001b[43m    \u001b[49m\u001b[43msrcStream\u001b[49m\u001b[38;5;241;43m=\u001b[39;49m\u001b[43me\u001b[49m\u001b[43m,\u001b[49m\n\u001b[1;32m   1849\u001b[0m \u001b[43m    \u001b[49m\u001b[43mrestoreActiveSites\u001b[49m\u001b[38;5;241;43m=\u001b[39;49m\u001b[38;5;28;43mself\u001b[39;49m\u001b[38;5;241;43m.\u001b[39;49m\u001b[43mrestoreActiveSites\u001b[49m\u001b[43m,\u001b[49m\n\u001b[1;32m   1850\u001b[0m \u001b[43m    \u001b[49m\u001b[43mfilterList\u001b[49m\u001b[38;5;241;43m=\u001b[39;49m\u001b[38;5;28;43mself\u001b[39;49m\u001b[38;5;241;43m.\u001b[39;49m\u001b[43mfilters\u001b[49m\u001b[43m,\u001b[49m\u001b[43m  \u001b[49m\u001b[38;5;66;43;03m# shared list...\u001b[39;49;00m\n\u001b[1;32m   1851\u001b[0m \u001b[43m    \u001b[49m\u001b[43mactiveInformation\u001b[49m\u001b[38;5;241;43m=\u001b[39;49m\u001b[38;5;28;43mself\u001b[39;49m\u001b[38;5;241;43m.\u001b[39;49m\u001b[43mactiveInformation\u001b[49m\u001b[43m,\u001b[49m\u001b[43m  \u001b[49m\u001b[38;5;66;43;03m# shared dict\u001b[39;49;00m\n\u001b[1;32m   1852\u001b[0m \u001b[43m    \u001b[49m\u001b[43mincludeSelf\u001b[49m\u001b[38;5;241;43m=\u001b[39;49m\u001b[38;5;28;43;01mFalse\u001b[39;49;00m\u001b[43m,\u001b[49m\u001b[43m  \u001b[49m\u001b[38;5;66;43;03m# always for inner streams\u001b[39;49;00m\n\u001b[1;32m   1853\u001b[0m \u001b[43m    \u001b[49m\u001b[43mignoreSorting\u001b[49m\u001b[38;5;241;43m=\u001b[39;49m\u001b[38;5;28;43mself\u001b[39;49m\u001b[38;5;241;43m.\u001b[39;49m\u001b[43mignoreSorting\u001b[49m\u001b[43m,\u001b[49m\n\u001b[1;32m   1854\u001b[0m \u001b[43m    \u001b[49m\u001b[38;5;66;43;03m# parentIterator=self,\u001b[39;49;00m\n\u001b[1;32m   1855\u001b[0m \u001b[43m\u001b[49m\u001b[43m)\u001b[49m\n\u001b[1;32m   1856\u001b[0m newStartOffset \u001b[38;5;241m=\u001b[39m (\u001b[38;5;28mself\u001b[39m\u001b[38;5;241m.\u001b[39miteratorStartOffsetInHierarchy\n\u001b[1;32m   1857\u001b[0m                   \u001b[38;5;241m+\u001b[39m \u001b[38;5;28mself\u001b[39m\u001b[38;5;241m.\u001b[39msrcStream\u001b[38;5;241m.\u001b[39melementOffset(e))\n\u001b[1;32m   1859\u001b[0m childRecursiveIterator\u001b[38;5;241m.\u001b[39miteratorStartOffsetInHierarchy \u001b[38;5;241m=\u001b[39m newStartOffset\n",
      "File \u001b[0;32m~/miniconda3/envs/guchoirs/lib/python3.9/site-packages/music21/stream/iterator.py:1776\u001b[0m, in \u001b[0;36mRecursiveIterator.__init__\u001b[0;34m(self, srcStream, filterList, restoreActiveSites, activeInformation, streamsOnly, includeSelf, ignoreSorting)\u001b[0m\n\u001b[1;32m   1765\u001b[0m \u001b[38;5;28;01mdef\u001b[39;00m \u001b[38;5;21m__init__\u001b[39m(\u001b[38;5;28mself\u001b[39m,\n\u001b[1;32m   1766\u001b[0m              srcStream,\n\u001b[1;32m   1767\u001b[0m              \u001b[38;5;241m*\u001b[39m,\n\u001b[0;32m   (...)\u001b[0m\n\u001b[1;32m   1774\u001b[0m              ignoreSorting\u001b[38;5;241m=\u001b[39m\u001b[38;5;28;01mFalse\u001b[39;00m\n\u001b[1;32m   1775\u001b[0m              ):  \u001b[38;5;66;03m# , parentIterator=None):\u001b[39;00m\n\u001b[0;32m-> 1776\u001b[0m     \u001b[38;5;28;43msuper\u001b[39;49m\u001b[43m(\u001b[49m\u001b[43m)\u001b[49m\u001b[38;5;241;43m.\u001b[39;49m\u001b[38;5;21;43m__init__\u001b[39;49m\u001b[43m(\u001b[49m\u001b[43msrcStream\u001b[49m\u001b[43m,\u001b[49m\n\u001b[1;32m   1777\u001b[0m \u001b[43m                     \u001b[49m\u001b[38;5;66;43;03m# restrictClass=restrictClass,\u001b[39;49;00m\n\u001b[1;32m   1778\u001b[0m \u001b[43m                     \u001b[49m\u001b[43mfilterList\u001b[49m\u001b[38;5;241;43m=\u001b[39;49m\u001b[43mfilterList\u001b[49m\u001b[43m,\u001b[49m\n\u001b[1;32m   1779\u001b[0m \u001b[43m                     \u001b[49m\u001b[43mrestoreActiveSites\u001b[49m\u001b[38;5;241;43m=\u001b[39;49m\u001b[43mrestoreActiveSites\u001b[49m\u001b[43m,\u001b[49m\n\u001b[1;32m   1780\u001b[0m \u001b[43m                     \u001b[49m\u001b[43mactiveInformation\u001b[49m\u001b[38;5;241;43m=\u001b[39;49m\u001b[43mactiveInformation\u001b[49m\u001b[43m,\u001b[49m\n\u001b[1;32m   1781\u001b[0m \u001b[43m                     \u001b[49m\u001b[43mignoreSorting\u001b[49m\u001b[38;5;241;43m=\u001b[39;49m\u001b[43mignoreSorting\u001b[49m\u001b[43m,\u001b[49m\n\u001b[1;32m   1782\u001b[0m \u001b[43m                     \u001b[49m\u001b[43m)\u001b[49m\n\u001b[1;32m   1783\u001b[0m     \u001b[38;5;28mself\u001b[39m\u001b[38;5;241m.\u001b[39mreturnSelf \u001b[38;5;241m=\u001b[39m includeSelf  \u001b[38;5;66;03m# do I still need to return the self object?\u001b[39;00m\n\u001b[1;32m   1784\u001b[0m     \u001b[38;5;28mself\u001b[39m\u001b[38;5;241m.\u001b[39mincludeSelf \u001b[38;5;241m=\u001b[39m includeSelf\n",
      "File \u001b[0;32m~/miniconda3/envs/guchoirs/lib/python3.9/site-packages/music21/stream/iterator.py:139\u001b[0m, in \u001b[0;36mStreamIterator.__init__\u001b[0;34m(self, srcStream, filterList, restoreActiveSites, activeInformation, ignoreSorting)\u001b[0m\n\u001b[1;32m    130\u001b[0m \u001b[38;5;28;01mdef\u001b[39;00m \u001b[38;5;21m__init__\u001b[39m(\u001b[38;5;28mself\u001b[39m,\n\u001b[1;32m    131\u001b[0m              srcStream: StreamType,\n\u001b[1;32m    132\u001b[0m              \u001b[38;5;241m*\u001b[39m,\n\u001b[0;32m   (...)\u001b[0m\n\u001b[1;32m    136\u001b[0m              activeInformation: t\u001b[38;5;241m.\u001b[39mOptional[ActiveInformation] \u001b[38;5;241m=\u001b[39m \u001b[38;5;28;01mNone\u001b[39;00m,\n\u001b[1;32m    137\u001b[0m              ignoreSorting: \u001b[38;5;28mbool\u001b[39m \u001b[38;5;241m=\u001b[39m \u001b[38;5;28;01mFalse\u001b[39;00m):\n\u001b[1;32m    138\u001b[0m     \u001b[38;5;28;01mif\u001b[39;00m \u001b[38;5;129;01mnot\u001b[39;00m ignoreSorting \u001b[38;5;129;01mand\u001b[39;00m srcStream\u001b[38;5;241m.\u001b[39misSorted \u001b[38;5;129;01mis\u001b[39;00m \u001b[38;5;28;01mFalse\u001b[39;00m \u001b[38;5;129;01mand\u001b[39;00m srcStream\u001b[38;5;241m.\u001b[39mautoSort:\n\u001b[0;32m--> 139\u001b[0m         \u001b[43msrcStream\u001b[49m\u001b[38;5;241;43m.\u001b[39;49m\u001b[43msort\u001b[49m\u001b[43m(\u001b[49m\u001b[43m)\u001b[49m\n\u001b[1;32m    140\u001b[0m     \u001b[38;5;28mself\u001b[39m\u001b[38;5;241m.\u001b[39msrcStream: StreamType \u001b[38;5;241m=\u001b[39m srcStream\n\u001b[1;32m    141\u001b[0m     \u001b[38;5;28mself\u001b[39m\u001b[38;5;241m.\u001b[39melementIndex: \u001b[38;5;28mint\u001b[39m \u001b[38;5;241m=\u001b[39m \u001b[38;5;241m0\u001b[39m\n",
      "File \u001b[0;32m~/miniconda3/envs/guchoirs/lib/python3.9/site-packages/music21/stream/base.py:7396\u001b[0m, in \u001b[0;36mStream.sort\u001b[0;34m(self, force)\u001b[0m\n\u001b[1;32m   7393\u001b[0m \u001b[38;5;66;03m# trust if this is sorted: do not sort again\u001b[39;00m\n\u001b[1;32m   7394\u001b[0m \u001b[38;5;66;03m# experimental\u001b[39;00m\n\u001b[1;32m   7395\u001b[0m \u001b[38;5;28;01mif\u001b[39;00m (\u001b[38;5;129;01mnot\u001b[39;00m \u001b[38;5;28mself\u001b[39m\u001b[38;5;241m.\u001b[39misSorted \u001b[38;5;129;01mand\u001b[39;00m \u001b[38;5;28mself\u001b[39m\u001b[38;5;241m.\u001b[39m_mutable) \u001b[38;5;129;01mor\u001b[39;00m force:\n\u001b[0;32m-> 7396\u001b[0m     \u001b[38;5;28;43mself\u001b[39;49m\u001b[38;5;241;43m.\u001b[39;49m\u001b[43m_elements\u001b[49m\u001b[38;5;241;43m.\u001b[39;49m\u001b[43msort\u001b[49m\u001b[43m(\u001b[49m\u001b[43mkey\u001b[49m\u001b[38;5;241;43m=\u001b[39;49m\u001b[38;5;28;43;01mlambda\u001b[39;49;00m\u001b[43m \u001b[49m\u001b[43mx\u001b[49m\u001b[43m:\u001b[49m\u001b[43m \u001b[49m\u001b[43mx\u001b[49m\u001b[38;5;241;43m.\u001b[39;49m\u001b[43msortTuple\u001b[49m\u001b[43m(\u001b[49m\u001b[38;5;28;43mself\u001b[39;49m\u001b[43m)\u001b[49m\u001b[43m)\u001b[49m\n\u001b[1;32m   7397\u001b[0m     \u001b[38;5;28mself\u001b[39m\u001b[38;5;241m.\u001b[39m_endElements\u001b[38;5;241m.\u001b[39msort(key\u001b[38;5;241m=\u001b[39m\u001b[38;5;28;01mlambda\u001b[39;00m x: x\u001b[38;5;241m.\u001b[39msortTuple(\u001b[38;5;28mself\u001b[39m))\n\u001b[1;32m   7399\u001b[0m     \u001b[38;5;66;03m# as sorting changes order, elements have changed;\u001b[39;00m\n\u001b[1;32m   7400\u001b[0m     \u001b[38;5;66;03m# need to clear cache, but flat status is the same\u001b[39;00m\n",
      "File \u001b[0;32m~/miniconda3/envs/guchoirs/lib/python3.9/site-packages/music21/stream/base.py:7396\u001b[0m, in \u001b[0;36mStream.sort.<locals>.<lambda>\u001b[0;34m(x)\u001b[0m\n\u001b[1;32m   7393\u001b[0m \u001b[38;5;66;03m# trust if this is sorted: do not sort again\u001b[39;00m\n\u001b[1;32m   7394\u001b[0m \u001b[38;5;66;03m# experimental\u001b[39;00m\n\u001b[1;32m   7395\u001b[0m \u001b[38;5;28;01mif\u001b[39;00m (\u001b[38;5;129;01mnot\u001b[39;00m \u001b[38;5;28mself\u001b[39m\u001b[38;5;241m.\u001b[39misSorted \u001b[38;5;129;01mand\u001b[39;00m \u001b[38;5;28mself\u001b[39m\u001b[38;5;241m.\u001b[39m_mutable) \u001b[38;5;129;01mor\u001b[39;00m force:\n\u001b[0;32m-> 7396\u001b[0m     \u001b[38;5;28mself\u001b[39m\u001b[38;5;241m.\u001b[39m_elements\u001b[38;5;241m.\u001b[39msort(key\u001b[38;5;241m=\u001b[39m\u001b[38;5;28;01mlambda\u001b[39;00m x: \u001b[43mx\u001b[49m\u001b[38;5;241;43m.\u001b[39;49m\u001b[43msortTuple\u001b[49m\u001b[43m(\u001b[49m\u001b[38;5;28;43mself\u001b[39;49m\u001b[43m)\u001b[49m)\n\u001b[1;32m   7397\u001b[0m     \u001b[38;5;28mself\u001b[39m\u001b[38;5;241m.\u001b[39m_endElements\u001b[38;5;241m.\u001b[39msort(key\u001b[38;5;241m=\u001b[39m\u001b[38;5;28;01mlambda\u001b[39;00m x: x\u001b[38;5;241m.\u001b[39msortTuple(\u001b[38;5;28mself\u001b[39m))\n\u001b[1;32m   7399\u001b[0m     \u001b[38;5;66;03m# as sorting changes order, elements have changed;\u001b[39;00m\n\u001b[1;32m   7400\u001b[0m     \u001b[38;5;66;03m# need to clear cache, but flat status is the same\u001b[39;00m\n",
      "File \u001b[0;32m~/miniconda3/envs/guchoirs/lib/python3.9/site-packages/music21/base.py:2672\u001b[0m, in \u001b[0;36mMusic21Object.sortTuple\u001b[0;34m(self, useSite, raiseExceptionOnMiss)\u001b[0m\n\u001b[1;32m   2670\u001b[0m     insertIndex \u001b[38;5;241m=\u001b[39m \u001b[38;5;28mself\u001b[39m\u001b[38;5;241m.\u001b[39msites\u001b[38;5;241m.\u001b[39msiteDict[\u001b[38;5;28mid\u001b[39m(useSite)]\u001b[38;5;241m.\u001b[39mglobalSiteIndex\n\u001b[1;32m   2671\u001b[0m \u001b[38;5;28;01melif\u001b[39;00m \u001b[38;5;28mself\u001b[39m\u001b[38;5;241m.\u001b[39mactiveSite \u001b[38;5;129;01mis\u001b[39;00m \u001b[38;5;129;01mnot\u001b[39;00m \u001b[38;5;28;01mNone\u001b[39;00m:\n\u001b[0;32m-> 2672\u001b[0m     insertIndex \u001b[38;5;241m=\u001b[39m \u001b[38;5;28;43mself\u001b[39;49m\u001b[38;5;241;43m.\u001b[39;49m\u001b[43msites\u001b[49m\u001b[38;5;241;43m.\u001b[39;49m\u001b[43msiteDict\u001b[49m\u001b[43m[\u001b[49m\u001b[38;5;28;43mid\u001b[39;49m\u001b[43m(\u001b[49m\u001b[38;5;28;43mself\u001b[39;49m\u001b[38;5;241;43m.\u001b[39;49m\u001b[43mactiveSite\u001b[49m\u001b[43m)\u001b[49m\u001b[43m]\u001b[49m\u001b[38;5;241m.\u001b[39mglobalSiteIndex\n\u001b[1;32m   2673\u001b[0m \u001b[38;5;28;01melse\u001b[39;00m:  \u001b[38;5;66;03m# for None, use this instead of default of -2.\u001b[39;00m\n\u001b[1;32m   2674\u001b[0m     insertIndex \u001b[38;5;241m=\u001b[39m \u001b[38;5;241m0\u001b[39m\n",
      "\u001b[0;31mKeyError\u001b[0m: 127652382098672"
     ]
    }
   ],
   "source": [
    "from music21 import *\n",
    "\n",
    "# save all the parts to variables\n",
    "bwv302 = converter.parse('bwv302.mxl')\n",
    "soprano = bwv302.parts[0]\n",
    "alto = bwv302.parts[1]\n",
    "tenor = bwv302.parts[2]\n",
    "bass = bwv302.parts[3]\n",
    "\n",
    "# combine the soprano and alto parts\n",
    "sa_part = stream.Part()\n",
    "sa_part.id = 'Piano (RH)'\n",
    "sa_part.append(soprano)\n",
    "sa_part.append(alto)\n",
    "\n",
    "# combine the tenor and bass parts\n",
    "tb_part = stream.Part()\n",
    "tb_part.id = 'Piano (LH)'\n",
    "tb_part.append(tenor)\n",
    "tb_part.append(bass)\n",
    "\n",
    "# insert these into the original score\n",
    "bwv302.insert(0, sa_part)\n",
    "bwv302.insert(0, tb_part)\n",
    "\n",
    "bwv302.write('musicxml.pdf', fp='test1.pdf')"
   ]
  }
 ],
 "metadata": {
  "kernelspec": {
   "display_name": "guchoirs",
   "language": "python",
   "name": "python3"
  },
  "language_info": {
   "codemirror_mode": {
    "name": "ipython",
    "version": 3
   },
   "file_extension": ".py",
   "mimetype": "text/x-python",
   "name": "python",
   "nbconvert_exporter": "python",
   "pygments_lexer": "ipython3",
   "version": "3.9.18"
  }
 },
 "nbformat": 4,
 "nbformat_minor": 2
}
