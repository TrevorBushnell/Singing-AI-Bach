{
 "cells": [
  {
   "cell_type": "code",
   "execution_count": 2,
   "metadata": {},
   "outputs": [],
   "source": [
    "from music21 import *"
   ]
  },
  {
   "cell_type": "markdown",
   "metadata": {},
   "source": [
    "# TESTING: Generating Harmonic Structure for Bach Chorales\n",
    "\n",
    "The following function can be used to take any musescore or musicxml file, condense it into chord structure, and generate the harmonic analysis so that we can use it for figuring out what to compare for my honors thesis."
   ]
  },
  {
   "cell_type": "code",
   "execution_count": 1,
   "metadata": {},
   "outputs": [],
   "source": [
    "def generate_chord_progressions(score):\n",
    "    # generate the chords\n",
    "    score_chords = score.chordify()\n",
    "    score_chords.partName = 'Chords'\n",
    "    score_chords.id = 'Chords'\n",
    "\n",
    "    # put the chords in closed position\n",
    "    for c in score_chords.recurse().getElementsByClass(chord.Chord):\n",
    "        c.closedPosition(forceOctave=4, inPlace=True)\n",
    "\n",
    "    # generate the roman numeral analysis for each chord\n",
    "    for c in score_chords.recurse().getElementsByClass(chord.Chord):\n",
    "        rn = roman.romanNumeralFromChord(c, score.analyze('key'))\n",
    "        c.addLyric(str(rn.figure))\n",
    "\n",
    "    score.insert(0, score_chords)"
   ]
  },
  {
   "cell_type": "markdown",
   "metadata": {},
   "source": [
    "Now each of the following code cells will generate the harmony for ONE of the AI generations. Starting with Chorale 20 and then will expand from there as I get more music for the project."
   ]
  },
  {
   "cell_type": "code",
   "execution_count": 3,
   "metadata": {},
   "outputs": [
    {
     "data": {
      "text/plain": [
       "PosixPath('/home/tbushnell/GitHub/Singing-AI-Bach/ai-music/Chorale20/Chorale20_DeepBach1.pdf')"
      ]
     },
     "execution_count": 3,
     "metadata": {},
     "output_type": "execute_result"
    }
   ],
   "source": [
    "ai_1 = converter.parse('./Chorale20/Chorale20_DeepBach1.musicxml')\n",
    "generate_chord_progressions(ai_1)\n",
    "ai_1.write('musicxml.pdf', fp='./Chorale20/Chorale20_DeepBach1.pdf')"
   ]
  }
 ],
 "metadata": {
  "kernelspec": {
   "display_name": "guchoirs",
   "language": "python",
   "name": "python3"
  },
  "language_info": {
   "codemirror_mode": {
    "name": "ipython",
    "version": 3
   },
   "file_extension": ".py",
   "mimetype": "text/x-python",
   "name": "python",
   "nbconvert_exporter": "python",
   "pygments_lexer": "ipython3",
   "version": "3.9.17"
  }
 },
 "nbformat": 4,
 "nbformat_minor": 2
}
