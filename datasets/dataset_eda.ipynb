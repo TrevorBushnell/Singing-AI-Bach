{
 "cells": [
  {
   "cell_type": "markdown",
   "metadata": {},
   "source": [
    "# Bach AI Datasets Analysis\n",
    "\n",
    "AIs need data to train on. While models can be trained on the same data, the models that I am using for my project have been trained on a variety of different datasets that all convey information about notes, chords, keys, and more in Bach chorales. This report aims to analyze/visualize the information contained inside these datasets as well as communicate the strengths and weaknesses of each of the datasets. "
   ]
  },
  {
   "cell_type": "markdown",
   "metadata": {},
   "source": [
    "## Overview of the Datasets\n",
    "\n",
    "There are three main datasets that my models/research draw from:\n",
    "\n",
    "* **Bach-Chorale-Harmony**: This dataset contains columns for each pitch class with a `True` value if that pitch class is present in the chord and `False` if the pitch class is not present in the chord. Also contains information about the bass, meter, and chord name. \n",
    "* **Bach-Chorales**: This dataset contains information about the melody (soprano) lines in Bach chorales. Contains information about the duration the note was held for, the key and time signature, and whether there is a fermata on the note.\n",
    "* **JSB-Chorales**: This dataset contains information about the notes that are being sung by all 4 parts. I also added information about what chord is being played using the `music21` package."
   ]
  },
  {
   "cell_type": "markdown",
   "metadata": {},
   "source": [
    "## Loading All the Datasets"
   ]
  },
  {
   "cell_type": "code",
   "execution_count": 7,
   "metadata": {},
   "outputs": [],
   "source": [
    "import pandas as pd\n",
    "import matplotlib.pyplot as plt\n",
    "import seaborn as sns\n",
    "\n",
    "bach_chorale_harmony_df = pd.read_csv('./Bach-Chorale-Harmony/Bach-Chorale-Harmony.csv')\n",
    "bach_chorales_df = pd.read_csv('./Bach-Chorales/chorales.csv')\n",
    "jsb_chorales_df = pd.read_csv('./JSB-Chorales/JSB-Chorales.csv')"
   ]
  },
  {
   "cell_type": "markdown",
   "metadata": {},
   "source": [
    "## General Information About All Datasets\n",
    "\n",
    "Before I go into detail about the features of each dataset, I want to start by comparing the difference between these datasets. \n",
    "\n",
    "For starters, we can get information about the number of timesteps taken into consideration within each of these datasets by just getting the length of each dataset;"
   ]
  },
  {
   "cell_type": "code",
   "execution_count": 2,
   "metadata": {},
   "outputs": [
    {
     "name": "stdout",
     "output_type": "stream",
     "text": [
      "Number of timesteps in the Bach-Chorale-Harmony dataset: 5665\n",
      "Number of timesteps in the Bach-Chorales dataset: 4693\n",
      "Number of timesteps in the JSB-Chorales dataset: 92536\n"
     ]
    }
   ],
   "source": [
    "print('Number of timesteps in the Bach-Chorale-Harmony dataset:', len(bach_chorale_harmony_df.index))\n",
    "print('Number of timesteps in the Bach-Chorales dataset:', len(bach_chorales_df.index))\n",
    "print('Number of timesteps in the JSB-Chorales dataset:', len(jsb_chorales_df.index))"
   ]
  },
  {
   "cell_type": "markdown",
   "metadata": {},
   "source": [
    "More data present in a dataset means that the resulting model will be more accurate, so the JSB-Chorales dataset takes the cake for most data present in its dataset. Although this is incredibly ironic because this was the dataset used by Coconet - the model that performs the worst out of all the models I looked at in this project.\n",
    "\n",
    "Also something that is important is the number of chorales that are present at all within the dataset. The following graph contains this information:"
   ]
  },
  {
   "cell_type": "code",
   "execution_count": 12,
   "metadata": {},
   "outputs": [
    {
     "data": {
      "image/png": "[encoded data removed]",
      "text/plain": [
       "<Figure size 432x288 with 1 Axes>"
      ]
     },
     "metadata": {
      "needs_background": "light"
     },
     "output_type": "display_data"
    }
   ],
   "source": [
    "num_chorales = {'Bach-Chorale-Harmony':(len(set(bach_chorale_harmony_df['ChoraleID'].values))), \n",
    "                'Bach-Chorales':(len(set(bach_chorales_df['chorale_id'].values))), \n",
    "                'JSB-Chorales':(len(set(jsb_chorales_df['ChoraleID'].values)))}\n",
    "\n",
    "ax = sns.barplot(num_chorales)\n",
    "\n",
    "# Annotate the values on the bars\n",
    "for p in ax.patches:\n",
    "    ax.annotate(f'{p.get_height()}', (p.get_x() + p.get_width() / 2., p.get_height()),\n",
    "                ha='center', va='center', xytext=(0, 10), textcoords='offset points')\n",
    "\n",
    "plt.xlabel('Dataset Name')\n",
    "plt.ylabel('Number of Chorales')\n",
    "plt.title('Number of Chorales Present in All Datasets')\n",
    "plt.show()"
   ]
  },
  {
   "cell_type": "markdown",
   "metadata": {},
   "source": [
    "This is also something that is important to note. Bach wrote approximately 400 chorales (although scholars have been disagreeing on this - sometimes the number 371 is thrown out there). Either way, JSB-Chorales covers a majority of all chorales that Bach wrote, which helps in providing rigorous data. On the other hand, these other datasets use way fewer of the chorales. This gives the AI less time to prepare against the variety of style that Bach writes with. Hopefully the style is covered in this representation.\n",
    "\n",
    "The final item I wanted to measure is to plot the percentage of types of chords that are present in all these datasets. The Bach-Chorales dataset can't be included in this, as it only contains information about the melody line in Bach chorales. However, the other two datasets have information about all the voices and therefore information about the chords. The percentage of kinds of chords is labeled below (both as a barplot and side-by-side pie charts because I wanted practice writing them both):"
   ]
  },
  {
   "cell_type": "code",
   "execution_count": null,
   "metadata": {},
   "outputs": [],
   "source": []
  }
 ],
 "metadata": {
  "kernelspec": {
   "display_name": "guchoirs",
   "language": "python",
   "name": "python3"
  },
  "language_info": {
   "codemirror_mode": {
    "name": "ipython",
    "version": 3
   },
   "file_extension": ".py",
   "mimetype": "text/x-python",
   "name": "python",
   "nbconvert_exporter": "python",
   "pygments_lexer": "ipython3",
   "version": "3.9.18"
  }
 },
 "nbformat": 4,
 "nbformat_minor": 2
}
